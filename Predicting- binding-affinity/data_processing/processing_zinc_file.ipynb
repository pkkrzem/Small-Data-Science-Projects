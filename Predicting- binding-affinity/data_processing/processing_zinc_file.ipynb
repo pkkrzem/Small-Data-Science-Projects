{
 "cells": [
  {
   "metadata": {},
   "cell_type": "markdown",
   "source": "### Imports",
   "id": "69f22cb0ccde0a16"
  },
  {
   "metadata": {
    "ExecuteTime": {
     "end_time": "2025-10-30T22:08:33.214455Z",
     "start_time": "2025-10-30T22:08:33.175285Z"
    }
   },
   "cell_type": "code",
   "source": [
    "import pandas as pd\n",
    "from pathlib import Path"
   ],
   "id": "ce1b2cdd8c657098",
   "outputs": [],
   "execution_count": 18
  },
  {
   "metadata": {},
   "cell_type": "markdown",
   "source": "### Loading the Data",
   "id": "81ea74a54b7a139"
  },
  {
   "cell_type": "code",
   "id": "initial_id",
   "metadata": {
    "collapsed": true,
    "ExecuteTime": {
     "end_time": "2025-10-30T22:08:33.282382Z",
     "start_time": "2025-10-30T22:08:33.220719Z"
    }
   },
   "source": "zinc_data = pd.read_csv(Path(\"../data/raw/ZINC_data_5HT2A.csv\"))",
   "outputs": [],
   "execution_count": 19
  },
  {
   "metadata": {},
   "cell_type": "markdown",
   "source": "### Looking at the Data",
   "id": "95ed047377136a0e"
  },
  {
   "metadata": {
    "ExecuteTime": {
     "end_time": "2025-10-30T22:08:33.312759Z",
     "start_time": "2025-10-30T22:08:33.291510Z"
    }
   },
   "cell_type": "code",
   "source": "zinc_data.head()",
   "id": "dc6b42b8ddff31bd",
   "outputs": [
    {
     "data": {
      "text/plain": [
       "            zinc_id                                             smiles  \\\n",
       "0  ZINC000029038589  CC(=O)N[C@@H]1CCc2ccc(CCN3CCN(c4nsc5ccccc45)CC...   \n",
       "1  ZINC000029038591  CC(=O)N[C@H]1CCc2ccc(CCN3CCN(c4nsc5ccccc45)CC3...   \n",
       "2  ZINC000029038592  CCC(=O)N[C@@H]1CCc2ccc(CCN3CCN(c4nsc5ccccc45)C...   \n",
       "3  ZINC000029038594  CCC(=O)N[C@H]1CCc2ccc(CCN3CCN(c4nsc5ccccc45)CC...   \n",
       "4  ZINC000000597400  O=S1(=O)c2cccc3cccc(c23)N1CCCN1CCN(c2ccc(F)cc2...   \n",
       "\n",
       "  ortholog_name gene_name  affinity  chembldocid title  reference.pubmed_id  \\\n",
       "0   5HT2A_HUMAN     HTR2A      11.0        38266   NaN           18160289.0   \n",
       "1   5HT2A_HUMAN     HTR2A      11.0        38266   NaN           18160289.0   \n",
       "2   5HT2A_HUMAN     HTR2A      11.0        38266   NaN           18160289.0   \n",
       "3   5HT2A_HUMAN     HTR2A      11.0        38266   NaN           18160289.0   \n",
       "4   5HT2A_HUMAN     HTR2A      10.4        16293   NaN           11170639.0   \n",
       "\n",
       "  reference.doi reference.chembl_id         reference.journal  reference.year  \\\n",
       "0           NaN       CHEMBL1140829  Bioorg. Med. Chem. Lett.          2008.0   \n",
       "1           NaN       CHEMBL1140829  Bioorg. Med. Chem. Lett.          2008.0   \n",
       "2           NaN       CHEMBL1140829  Bioorg. Med. Chem. Lett.          2008.0   \n",
       "3           NaN       CHEMBL1140829  Bioorg. Med. Chem. Lett.          2008.0   \n",
       "4           NaN       CHEMBL1134342             J. Med. Chem.          2001.0   \n",
       "\n",
       "   pKi_numeric  \n",
       "0         11.0  \n",
       "1         11.0  \n",
       "2         11.0  \n",
       "3         11.0  \n",
       "4         10.4  "
      ],
      "text/html": [
       "<div>\n",
       "<style scoped>\n",
       "    .dataframe tbody tr th:only-of-type {\n",
       "        vertical-align: middle;\n",
       "    }\n",
       "\n",
       "    .dataframe tbody tr th {\n",
       "        vertical-align: top;\n",
       "    }\n",
       "\n",
       "    .dataframe thead th {\n",
       "        text-align: right;\n",
       "    }\n",
       "</style>\n",
       "<table border=\"1\" class=\"dataframe\">\n",
       "  <thead>\n",
       "    <tr style=\"text-align: right;\">\n",
       "      <th></th>\n",
       "      <th>zinc_id</th>\n",
       "      <th>smiles</th>\n",
       "      <th>ortholog_name</th>\n",
       "      <th>gene_name</th>\n",
       "      <th>affinity</th>\n",
       "      <th>chembldocid</th>\n",
       "      <th>title</th>\n",
       "      <th>reference.pubmed_id</th>\n",
       "      <th>reference.doi</th>\n",
       "      <th>reference.chembl_id</th>\n",
       "      <th>reference.journal</th>\n",
       "      <th>reference.year</th>\n",
       "      <th>pKi_numeric</th>\n",
       "    </tr>\n",
       "  </thead>\n",
       "  <tbody>\n",
       "    <tr>\n",
       "      <th>0</th>\n",
       "      <td>ZINC000029038589</td>\n",
       "      <td>CC(=O)N[C@@H]1CCc2ccc(CCN3CCN(c4nsc5ccccc45)CC...</td>\n",
       "      <td>5HT2A_HUMAN</td>\n",
       "      <td>HTR2A</td>\n",
       "      <td>11.0</td>\n",
       "      <td>38266</td>\n",
       "      <td>NaN</td>\n",
       "      <td>18160289.0</td>\n",
       "      <td>NaN</td>\n",
       "      <td>CHEMBL1140829</td>\n",
       "      <td>Bioorg. Med. Chem. Lett.</td>\n",
       "      <td>2008.0</td>\n",
       "      <td>11.0</td>\n",
       "    </tr>\n",
       "    <tr>\n",
       "      <th>1</th>\n",
       "      <td>ZINC000029038591</td>\n",
       "      <td>CC(=O)N[C@H]1CCc2ccc(CCN3CCN(c4nsc5ccccc45)CC3...</td>\n",
       "      <td>5HT2A_HUMAN</td>\n",
       "      <td>HTR2A</td>\n",
       "      <td>11.0</td>\n",
       "      <td>38266</td>\n",
       "      <td>NaN</td>\n",
       "      <td>18160289.0</td>\n",
       "      <td>NaN</td>\n",
       "      <td>CHEMBL1140829</td>\n",
       "      <td>Bioorg. Med. Chem. Lett.</td>\n",
       "      <td>2008.0</td>\n",
       "      <td>11.0</td>\n",
       "    </tr>\n",
       "    <tr>\n",
       "      <th>2</th>\n",
       "      <td>ZINC000029038592</td>\n",
       "      <td>CCC(=O)N[C@@H]1CCc2ccc(CCN3CCN(c4nsc5ccccc45)C...</td>\n",
       "      <td>5HT2A_HUMAN</td>\n",
       "      <td>HTR2A</td>\n",
       "      <td>11.0</td>\n",
       "      <td>38266</td>\n",
       "      <td>NaN</td>\n",
       "      <td>18160289.0</td>\n",
       "      <td>NaN</td>\n",
       "      <td>CHEMBL1140829</td>\n",
       "      <td>Bioorg. Med. Chem. Lett.</td>\n",
       "      <td>2008.0</td>\n",
       "      <td>11.0</td>\n",
       "    </tr>\n",
       "    <tr>\n",
       "      <th>3</th>\n",
       "      <td>ZINC000029038594</td>\n",
       "      <td>CCC(=O)N[C@H]1CCc2ccc(CCN3CCN(c4nsc5ccccc45)CC...</td>\n",
       "      <td>5HT2A_HUMAN</td>\n",
       "      <td>HTR2A</td>\n",
       "      <td>11.0</td>\n",
       "      <td>38266</td>\n",
       "      <td>NaN</td>\n",
       "      <td>18160289.0</td>\n",
       "      <td>NaN</td>\n",
       "      <td>CHEMBL1140829</td>\n",
       "      <td>Bioorg. Med. Chem. Lett.</td>\n",
       "      <td>2008.0</td>\n",
       "      <td>11.0</td>\n",
       "    </tr>\n",
       "    <tr>\n",
       "      <th>4</th>\n",
       "      <td>ZINC000000597400</td>\n",
       "      <td>O=S1(=O)c2cccc3cccc(c23)N1CCCN1CCN(c2ccc(F)cc2...</td>\n",
       "      <td>5HT2A_HUMAN</td>\n",
       "      <td>HTR2A</td>\n",
       "      <td>10.4</td>\n",
       "      <td>16293</td>\n",
       "      <td>NaN</td>\n",
       "      <td>11170639.0</td>\n",
       "      <td>NaN</td>\n",
       "      <td>CHEMBL1134342</td>\n",
       "      <td>J. Med. Chem.</td>\n",
       "      <td>2001.0</td>\n",
       "      <td>10.4</td>\n",
       "    </tr>\n",
       "  </tbody>\n",
       "</table>\n",
       "</div>"
      ]
     },
     "execution_count": 20,
     "metadata": {},
     "output_type": "execute_result"
    }
   ],
   "execution_count": 20
  },
  {
   "metadata": {
    "ExecuteTime": {
     "end_time": "2025-10-30T22:08:33.341666Z",
     "start_time": "2025-10-30T22:08:33.323292Z"
    }
   },
   "cell_type": "code",
   "source": "zinc_data.info()",
   "id": "a1917ce22cab0719",
   "outputs": [
    {
     "name": "stdout",
     "output_type": "stream",
     "text": [
      "<class 'pandas.core.frame.DataFrame'>\n",
      "RangeIndex: 2877 entries, 0 to 2876\n",
      "Data columns (total 13 columns):\n",
      " #   Column               Non-Null Count  Dtype  \n",
      "---  ------               --------------  -----  \n",
      " 0   zinc_id              2877 non-null   object \n",
      " 1   smiles               2877 non-null   object \n",
      " 2   ortholog_name        2877 non-null   object \n",
      " 3   gene_name            2877 non-null   object \n",
      " 4   affinity             2877 non-null   float64\n",
      " 5   chembldocid          2877 non-null   int64  \n",
      " 6   title                97 non-null     object \n",
      " 7   reference.pubmed_id  2701 non-null   float64\n",
      " 8   reference.doi        116 non-null    object \n",
      " 9   reference.chembl_id  2877 non-null   object \n",
      " 10  reference.journal    2780 non-null   object \n",
      " 11  reference.year       2780 non-null   float64\n",
      " 12  pKi_numeric          2877 non-null   float64\n",
      "dtypes: float64(4), int64(1), object(8)\n",
      "memory usage: 292.3+ KB\n"
     ]
    }
   ],
   "execution_count": 21
  },
  {
   "metadata": {
    "ExecuteTime": {
     "end_time": "2025-10-30T22:08:33.355425Z",
     "start_time": "2025-10-30T22:08:33.349311Z"
    }
   },
   "cell_type": "code",
   "source": "zinc_data.columns",
   "id": "b55d03bf5cd187cb",
   "outputs": [
    {
     "data": {
      "text/plain": [
       "Index(['zinc_id', 'smiles', 'ortholog_name', 'gene_name', 'affinity',\n",
       "       'chembldocid', 'title', 'reference.pubmed_id', 'reference.doi',\n",
       "       'reference.chembl_id', 'reference.journal', 'reference.year',\n",
       "       'pKi_numeric'],\n",
       "      dtype='object')"
      ]
     },
     "execution_count": 22,
     "metadata": {},
     "output_type": "execute_result"
    }
   ],
   "execution_count": 22
  },
  {
   "metadata": {
    "ExecuteTime": {
     "end_time": "2025-10-30T22:08:33.386580Z",
     "start_time": "2025-10-30T22:08:33.380056Z"
    }
   },
   "cell_type": "code",
   "source": "zinc_data = zinc_data[['smiles', 'pKi_numeric']]",
   "id": "3cbaca17e2e3fd7c",
   "outputs": [],
   "execution_count": 23
  },
  {
   "metadata": {
    "ExecuteTime": {
     "end_time": "2025-10-30T22:08:33.443275Z",
     "start_time": "2025-10-30T22:08:33.426651Z"
    }
   },
   "cell_type": "code",
   "source": "zinc_data.to_csv('../data/processed/zinc_data_processed.csv', index=False)",
   "id": "1b7aa4a357d8813b",
   "outputs": [],
   "execution_count": 24
  }
 ],
 "metadata": {
  "kernelspec": {
   "display_name": "Python 3",
   "language": "python",
   "name": "python3"
  },
  "language_info": {
   "codemirror_mode": {
    "name": "ipython",
    "version": 2
   },
   "file_extension": ".py",
   "mimetype": "text/x-python",
   "name": "python",
   "nbconvert_exporter": "python",
   "pygments_lexer": "ipython2",
   "version": "2.7.6"
  }
 },
 "nbformat": 4,
 "nbformat_minor": 5
}
