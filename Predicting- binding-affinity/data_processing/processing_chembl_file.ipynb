{
 "cells": [
  {
   "metadata": {},
   "cell_type": "markdown",
   "source": "### Imports",
   "id": "69f22cb0ccde0a16"
  },
  {
   "metadata": {
    "ExecuteTime": {
     "end_time": "2025-10-30T21:12:51.258485Z",
     "start_time": "2025-10-30T21:12:51.252714Z"
    }
   },
   "cell_type": "code",
   "source": [
    "import pandas as pd\n",
    "import numpy as np\n",
    "from pathlib import Path"
   ],
   "id": "ce1b2cdd8c657098",
   "outputs": [],
   "execution_count": 11
  },
  {
   "metadata": {},
   "cell_type": "markdown",
   "source": "### Loading the Data",
   "id": "81ea74a54b7a139"
  },
  {
   "cell_type": "code",
   "id": "initial_id",
   "metadata": {
    "collapsed": true,
    "ExecuteTime": {
     "end_time": "2025-10-30T21:10:54.718148Z",
     "start_time": "2025-10-30T21:10:54.657422Z"
    }
   },
   "source": "chembl_data = pd.read_csv(Path(\"../data/raw/Chembl_data_5HT2A.csv\"))",
   "outputs": [],
   "execution_count": 2
  },
  {
   "metadata": {},
   "cell_type": "markdown",
   "source": "### Looking at the Data",
   "id": "95ed047377136a0e"
  },
  {
   "metadata": {
    "ExecuteTime": {
     "end_time": "2025-10-30T21:10:56.178686Z",
     "start_time": "2025-10-30T21:10:56.146598Z"
    }
   },
   "cell_type": "code",
   "source": "chembl_data.head()",
   "id": "dc6b42b8ddff31bd",
   "outputs": [
    {
     "data": {
      "text/plain": [
       "  Molecule ChEMBL ID Molecule Name  Molecule Max Phase  Molecular Weight  \\\n",
       "0      CHEMBL4212943           NaN                 NaN            452.53   \n",
       "1       CHEMBL316527           NaN                 NaN            235.28   \n",
       "2      CHEMBL4591410           NaN                 NaN            336.40   \n",
       "3      CHEMBL4584504           NaN                 NaN            350.39   \n",
       "4       CHEMBL180010           NaN                 NaN            481.43   \n",
       "\n",
       "   #RO5 Violations  AlogP  Compound Key  \\\n",
       "0              0.0   4.42            8b   \n",
       "1              0.0   1.07             9   \n",
       "2              0.0   3.49  22; PKSN-240   \n",
       "3              0.0   4.60  34; PKSN-222   \n",
       "4              1.0   5.16    6, PG01037   \n",
       "\n",
       "                                              Smiles Standard Type  \\\n",
       "0  CC(=O)c1c(OCCCCN2CCN(c3cccc(F)c3)CC2)ccc2c(C)c...            Ki   \n",
       "1                        COc1c2c(c(CCN)c3c1OCC3)CCO2            Ki   \n",
       "2       COc1ccc2[nH]cc(CCNCc3ccc(-c4cn[nH]c4)o3)c2c1            Ki   \n",
       "3       Oc1ccc(-c2ccc(CNCCc3c[nH]c4cc(F)ccc34)o2)cc1            Ki   \n",
       "4  O=C(NC/C=C/CN1CCN(c2cccc(Cl)c2Cl)CC1)c1ccc(-c2...            Ki   \n",
       "\n",
       "  Standard Relation  ...     Target Type Document ChEMBL ID  Source ID  \\\n",
       "0               '='  ...  SINGLE PROTEIN      CHEMBL4184192          1   \n",
       "1               '='  ...  SINGLE PROTEIN      CHEMBL1130147          1   \n",
       "2               '='  ...  SINGLE PROTEIN      CHEMBL4312034          1   \n",
       "3               '='  ...  SINGLE PROTEIN      CHEMBL4312034          1   \n",
       "4               '='  ...  SINGLE PROTEIN      CHEMBL1148745          1   \n",
       "\n",
       "      Source Description Document Journal Document Year  Cell ChEMBL ID  \\\n",
       "0  Scientific Literature  Bioorg Med Chem        2018.0             NaN   \n",
       "1  Scientific Literature       J Med Chem        1997.0             NaN   \n",
       "2  Scientific Literature   Eur J Med Chem        2020.0   CHEMBL3307715   \n",
       "3  Scientific Literature   Eur J Med Chem        2020.0   CHEMBL3307715   \n",
       "4  Scientific Literature       J Med Chem        2007.0             NaN   \n",
       "\n",
       "   Properties  relation_clean  pKi_numeric  \n",
       "0         NaN               =         6.40  \n",
       "1         NaN               =         5.35  \n",
       "2         NaN               =         7.55  \n",
       "3         NaN               =         7.02  \n",
       "4         NaN               =         7.21  \n",
       "\n",
       "[5 rows x 47 columns]"
      ],
      "text/html": [
       "<div>\n",
       "<style scoped>\n",
       "    .dataframe tbody tr th:only-of-type {\n",
       "        vertical-align: middle;\n",
       "    }\n",
       "\n",
       "    .dataframe tbody tr th {\n",
       "        vertical-align: top;\n",
       "    }\n",
       "\n",
       "    .dataframe thead th {\n",
       "        text-align: right;\n",
       "    }\n",
       "</style>\n",
       "<table border=\"1\" class=\"dataframe\">\n",
       "  <thead>\n",
       "    <tr style=\"text-align: right;\">\n",
       "      <th></th>\n",
       "      <th>Molecule ChEMBL ID</th>\n",
       "      <th>Molecule Name</th>\n",
       "      <th>Molecule Max Phase</th>\n",
       "      <th>Molecular Weight</th>\n",
       "      <th>#RO5 Violations</th>\n",
       "      <th>AlogP</th>\n",
       "      <th>Compound Key</th>\n",
       "      <th>Smiles</th>\n",
       "      <th>Standard Type</th>\n",
       "      <th>Standard Relation</th>\n",
       "      <th>...</th>\n",
       "      <th>Target Type</th>\n",
       "      <th>Document ChEMBL ID</th>\n",
       "      <th>Source ID</th>\n",
       "      <th>Source Description</th>\n",
       "      <th>Document Journal</th>\n",
       "      <th>Document Year</th>\n",
       "      <th>Cell ChEMBL ID</th>\n",
       "      <th>Properties</th>\n",
       "      <th>relation_clean</th>\n",
       "      <th>pKi_numeric</th>\n",
       "    </tr>\n",
       "  </thead>\n",
       "  <tbody>\n",
       "    <tr>\n",
       "      <th>0</th>\n",
       "      <td>CHEMBL4212943</td>\n",
       "      <td>NaN</td>\n",
       "      <td>NaN</td>\n",
       "      <td>452.53</td>\n",
       "      <td>0.0</td>\n",
       "      <td>4.42</td>\n",
       "      <td>8b</td>\n",
       "      <td>CC(=O)c1c(OCCCCN2CCN(c3cccc(F)c3)CC2)ccc2c(C)c...</td>\n",
       "      <td>Ki</td>\n",
       "      <td>'='</td>\n",
       "      <td>...</td>\n",
       "      <td>SINGLE PROTEIN</td>\n",
       "      <td>CHEMBL4184192</td>\n",
       "      <td>1</td>\n",
       "      <td>Scientific Literature</td>\n",
       "      <td>Bioorg Med Chem</td>\n",
       "      <td>2018.0</td>\n",
       "      <td>NaN</td>\n",
       "      <td>NaN</td>\n",
       "      <td>=</td>\n",
       "      <td>6.40</td>\n",
       "    </tr>\n",
       "    <tr>\n",
       "      <th>1</th>\n",
       "      <td>CHEMBL316527</td>\n",
       "      <td>NaN</td>\n",
       "      <td>NaN</td>\n",
       "      <td>235.28</td>\n",
       "      <td>0.0</td>\n",
       "      <td>1.07</td>\n",
       "      <td>9</td>\n",
       "      <td>COc1c2c(c(CCN)c3c1OCC3)CCO2</td>\n",
       "      <td>Ki</td>\n",
       "      <td>'='</td>\n",
       "      <td>...</td>\n",
       "      <td>SINGLE PROTEIN</td>\n",
       "      <td>CHEMBL1130147</td>\n",
       "      <td>1</td>\n",
       "      <td>Scientific Literature</td>\n",
       "      <td>J Med Chem</td>\n",
       "      <td>1997.0</td>\n",
       "      <td>NaN</td>\n",
       "      <td>NaN</td>\n",
       "      <td>=</td>\n",
       "      <td>5.35</td>\n",
       "    </tr>\n",
       "    <tr>\n",
       "      <th>2</th>\n",
       "      <td>CHEMBL4591410</td>\n",
       "      <td>NaN</td>\n",
       "      <td>NaN</td>\n",
       "      <td>336.40</td>\n",
       "      <td>0.0</td>\n",
       "      <td>3.49</td>\n",
       "      <td>22; PKSN-240</td>\n",
       "      <td>COc1ccc2[nH]cc(CCNCc3ccc(-c4cn[nH]c4)o3)c2c1</td>\n",
       "      <td>Ki</td>\n",
       "      <td>'='</td>\n",
       "      <td>...</td>\n",
       "      <td>SINGLE PROTEIN</td>\n",
       "      <td>CHEMBL4312034</td>\n",
       "      <td>1</td>\n",
       "      <td>Scientific Literature</td>\n",
       "      <td>Eur J Med Chem</td>\n",
       "      <td>2020.0</td>\n",
       "      <td>CHEMBL3307715</td>\n",
       "      <td>NaN</td>\n",
       "      <td>=</td>\n",
       "      <td>7.55</td>\n",
       "    </tr>\n",
       "    <tr>\n",
       "      <th>3</th>\n",
       "      <td>CHEMBL4584504</td>\n",
       "      <td>NaN</td>\n",
       "      <td>NaN</td>\n",
       "      <td>350.39</td>\n",
       "      <td>0.0</td>\n",
       "      <td>4.60</td>\n",
       "      <td>34; PKSN-222</td>\n",
       "      <td>Oc1ccc(-c2ccc(CNCCc3c[nH]c4cc(F)ccc34)o2)cc1</td>\n",
       "      <td>Ki</td>\n",
       "      <td>'='</td>\n",
       "      <td>...</td>\n",
       "      <td>SINGLE PROTEIN</td>\n",
       "      <td>CHEMBL4312034</td>\n",
       "      <td>1</td>\n",
       "      <td>Scientific Literature</td>\n",
       "      <td>Eur J Med Chem</td>\n",
       "      <td>2020.0</td>\n",
       "      <td>CHEMBL3307715</td>\n",
       "      <td>NaN</td>\n",
       "      <td>=</td>\n",
       "      <td>7.02</td>\n",
       "    </tr>\n",
       "    <tr>\n",
       "      <th>4</th>\n",
       "      <td>CHEMBL180010</td>\n",
       "      <td>NaN</td>\n",
       "      <td>NaN</td>\n",
       "      <td>481.43</td>\n",
       "      <td>1.0</td>\n",
       "      <td>5.16</td>\n",
       "      <td>6, PG01037</td>\n",
       "      <td>O=C(NC/C=C/CN1CCN(c2cccc(Cl)c2Cl)CC1)c1ccc(-c2...</td>\n",
       "      <td>Ki</td>\n",
       "      <td>'='</td>\n",
       "      <td>...</td>\n",
       "      <td>SINGLE PROTEIN</td>\n",
       "      <td>CHEMBL1148745</td>\n",
       "      <td>1</td>\n",
       "      <td>Scientific Literature</td>\n",
       "      <td>J Med Chem</td>\n",
       "      <td>2007.0</td>\n",
       "      <td>NaN</td>\n",
       "      <td>NaN</td>\n",
       "      <td>=</td>\n",
       "      <td>7.21</td>\n",
       "    </tr>\n",
       "  </tbody>\n",
       "</table>\n",
       "<p>5 rows × 47 columns</p>\n",
       "</div>"
      ]
     },
     "execution_count": 3,
     "metadata": {},
     "output_type": "execute_result"
    }
   ],
   "execution_count": 3
  },
  {
   "metadata": {
    "ExecuteTime": {
     "end_time": "2025-10-30T21:11:00.279139Z",
     "start_time": "2025-10-30T21:11:00.262255Z"
    }
   },
   "cell_type": "code",
   "source": "chembl_data.info()",
   "id": "a1917ce22cab0719",
   "outputs": [
    {
     "name": "stdout",
     "output_type": "stream",
     "text": [
      "<class 'pandas.core.frame.DataFrame'>\n",
      "RangeIndex: 5454 entries, 0 to 5453\n",
      "Data columns (total 47 columns):\n",
      " #   Column                      Non-Null Count  Dtype  \n",
      "---  ------                      --------------  -----  \n",
      " 0   Molecule ChEMBL ID          5454 non-null   object \n",
      " 1   Molecule Name               1198 non-null   object \n",
      " 2   Molecule Max Phase          1045 non-null   float64\n",
      " 3   Molecular Weight            5454 non-null   float64\n",
      " 4   #RO5 Violations             5423 non-null   float64\n",
      " 5   AlogP                       5423 non-null   float64\n",
      " 6   Compound Key                5454 non-null   object \n",
      " 7   Smiles                      5454 non-null   object \n",
      " 8   Standard Type               5454 non-null   object \n",
      " 9   Standard Relation           4467 non-null   object \n",
      " 10  Standard Value              4490 non-null   float64\n",
      " 11  Standard Units              4504 non-null   object \n",
      " 12  pChEMBL Value               3949 non-null   float64\n",
      " 13  Data Validity Comment       20 non-null     object \n",
      " 14  Comment                     1522 non-null   object \n",
      " 15  Uo Units                    4503 non-null   object \n",
      " 16  Ligand Efficiency BEI       3833 non-null   float64\n",
      " 17  Ligand Efficiency LE        3824 non-null   float64\n",
      " 18  Ligand Efficiency LLE       3824 non-null   float64\n",
      " 19  Ligand Efficiency SEI       3823 non-null   float64\n",
      " 20  Potential Duplicate         5454 non-null   int64  \n",
      " 21  Assay ChEMBL ID             5454 non-null   object \n",
      " 22  Assay Description           5454 non-null   object \n",
      " 23  Assay Type                  5454 non-null   object \n",
      " 24  BAO Format ID               5454 non-null   object \n",
      " 25  BAO Label                   5454 non-null   object \n",
      " 26  Assay Organism              3693 non-null   object \n",
      " 27  Assay Tissue ChEMBL ID      7 non-null      object \n",
      " 28  Assay Tissue Name           7 non-null      object \n",
      " 29  Assay Cell Type             3132 non-null   object \n",
      " 30  Assay Subcellular Fraction  885 non-null    object \n",
      " 31  Assay Parameters            22 non-null     object \n",
      " 32  Assay Variant Accession     5 non-null      object \n",
      " 33  Assay Variant Mutation      5 non-null      object \n",
      " 34  Target ChEMBL ID            5454 non-null   object \n",
      " 35  Target Name                 5454 non-null   object \n",
      " 36  Target Organism             5454 non-null   object \n",
      " 37  Target Type                 5454 non-null   object \n",
      " 38  Document ChEMBL ID          5454 non-null   object \n",
      " 39  Source ID                   5454 non-null   int64  \n",
      " 40  Source Description          5454 non-null   object \n",
      " 41  Document Journal            4082 non-null   object \n",
      " 42  Document Year               4626 non-null   float64\n",
      " 43  Cell ChEMBL ID              2400 non-null   object \n",
      " 44  Properties                  128 non-null    object \n",
      " 45  relation_clean              4467 non-null   object \n",
      " 46  pKi_numeric                 3949 non-null   float64\n",
      "dtypes: float64(12), int64(2), object(33)\n",
      "memory usage: 2.0+ MB\n"
     ]
    }
   ],
   "execution_count": 4
  },
  {
   "metadata": {
    "ExecuteTime": {
     "end_time": "2025-10-30T21:11:09.407795Z",
     "start_time": "2025-10-30T21:11:09.399452Z"
    }
   },
   "cell_type": "code",
   "source": "chembl_data.columns",
   "id": "b55d03bf5cd187cb",
   "outputs": [
    {
     "data": {
      "text/plain": [
       "Index(['Molecule ChEMBL ID', 'Molecule Name', 'Molecule Max Phase',\n",
       "       'Molecular Weight', '#RO5 Violations', 'AlogP', 'Compound Key',\n",
       "       'Smiles', 'Standard Type', 'Standard Relation', 'Standard Value',\n",
       "       'Standard Units', 'pChEMBL Value', 'Data Validity Comment', 'Comment',\n",
       "       'Uo Units', 'Ligand Efficiency BEI', 'Ligand Efficiency LE',\n",
       "       'Ligand Efficiency LLE', 'Ligand Efficiency SEI', 'Potential Duplicate',\n",
       "       'Assay ChEMBL ID', 'Assay Description', 'Assay Type', 'BAO Format ID',\n",
       "       'BAO Label', 'Assay Organism', 'Assay Tissue ChEMBL ID',\n",
       "       'Assay Tissue Name', 'Assay Cell Type', 'Assay Subcellular Fraction',\n",
       "       'Assay Parameters', 'Assay Variant Accession', 'Assay Variant Mutation',\n",
       "       'Target ChEMBL ID', 'Target Name', 'Target Organism', 'Target Type',\n",
       "       'Document ChEMBL ID', 'Source ID', 'Source Description',\n",
       "       'Document Journal', 'Document Year', 'Cell ChEMBL ID', 'Properties',\n",
       "       'relation_clean', 'pKi_numeric'],\n",
       "      dtype='object')"
      ]
     },
     "execution_count": 5,
     "metadata": {},
     "output_type": "execute_result"
    }
   ],
   "execution_count": 5
  },
  {
   "metadata": {
    "ExecuteTime": {
     "end_time": "2025-10-30T21:11:36.974050Z",
     "start_time": "2025-10-30T21:11:36.968215Z"
    }
   },
   "cell_type": "code",
   "source": "chembl_data = chembl_data.rename(columns={'Smiles': 'smiles'})",
   "id": "3cbaca17e2e3fd7c",
   "outputs": [],
   "execution_count": 6
  },
  {
   "metadata": {
    "ExecuteTime": {
     "end_time": "2025-10-30T21:11:47.052972Z",
     "start_time": "2025-10-30T21:11:47.042780Z"
    }
   },
   "cell_type": "code",
   "source": "chembl_data[\"Standard Relation\"].unique()",
   "id": "6c769facdab32029",
   "outputs": [
    {
     "data": {
      "text/plain": [
       "array([\"'='\", nan, \"'>'\", \"'<'\", \"'>='\"], dtype=object)"
      ]
     },
     "execution_count": 7,
     "metadata": {},
     "output_type": "execute_result"
    }
   ],
   "execution_count": 7
  },
  {
   "metadata": {
    "ExecuteTime": {
     "end_time": "2025-10-30T21:11:57.336732Z",
     "start_time": "2025-10-30T21:11:57.328515Z"
    }
   },
   "cell_type": "code",
   "source": "chembl_data_filtered = chembl_data[chembl_data[\"Standard Relation\"] == \"'='\"]",
   "id": "65348839e7d84985",
   "outputs": [],
   "execution_count": 8
  },
  {
   "metadata": {
    "ExecuteTime": {
     "end_time": "2025-10-30T21:12:09.038254Z",
     "start_time": "2025-10-30T21:12:09.028186Z"
    }
   },
   "cell_type": "code",
   "source": "chembl_data_filtered[\"Standard Relation\"].unique()",
   "id": "44556a53f2a379fe",
   "outputs": [
    {
     "data": {
      "text/plain": [
       "array([\"'='\"], dtype=object)"
      ]
     },
     "execution_count": 9,
     "metadata": {},
     "output_type": "execute_result"
    }
   ],
   "execution_count": 9
  },
  {
   "metadata": {
    "ExecuteTime": {
     "end_time": "2025-10-30T21:12:55.014282Z",
     "start_time": "2025-10-30T21:12:55.002660Z"
    }
   },
   "cell_type": "code",
   "source": [
    "if 'Standard Value' in chembl_data_filtered.columns:\n",
    "\n",
    "    chembl_data_calc = chembl_data_filtered[chembl_data_filtered['Standard Value'] > 0].copy()\n",
    "\n",
    "    # pKi = 9 - log10(Ki[nM])\n",
    "    # Values in 'Standard Value' column are Ki in nanomoles [nM]\n",
    "    chembl_data_calc['pKi_calc'] = 9 - np.log10(chembl_data_calc['Standard Value'])\n",
    "\n",
    "    print(\"Calculated pKi for ChemBL data:\")\n",
    "    print(chembl_data_calc[['Standard Value', 'pKi_calc']].head())\n",
    "\n",
    "else:\n",
    "    print(\"No 'Standard Value' column in chembl_data_filtered\")"
   ],
   "id": "8fb68d6abe40b14e",
   "outputs": [
    {
     "name": "stdout",
     "output_type": "stream",
     "text": [
      "Calculated pKi for ChemBL data:\n",
      "   Standard Value  pKi_calc\n",
      "0           400.0  6.397940\n",
      "1          4443.0  5.352324\n",
      "2            28.0  7.552842\n",
      "3            96.0  7.017729\n",
      "4            62.4  7.204815\n"
     ]
    }
   ],
   "execution_count": 12
  },
  {
   "metadata": {
    "ExecuteTime": {
     "end_time": "2025-10-30T21:13:05.464649Z",
     "start_time": "2025-10-30T21:13:05.458999Z"
    }
   },
   "cell_type": "code",
   "source": "chembl_data_calc.columns",
   "id": "16a38e5b2227d335",
   "outputs": [
    {
     "data": {
      "text/plain": [
       "Index(['Molecule ChEMBL ID', 'Molecule Name', 'Molecule Max Phase',\n",
       "       'Molecular Weight', '#RO5 Violations', 'AlogP', 'Compound Key',\n",
       "       'smiles', 'Standard Type', 'Standard Relation', 'Standard Value',\n",
       "       'Standard Units', 'pChEMBL Value', 'Data Validity Comment', 'Comment',\n",
       "       'Uo Units', 'Ligand Efficiency BEI', 'Ligand Efficiency LE',\n",
       "       'Ligand Efficiency LLE', 'Ligand Efficiency SEI', 'Potential Duplicate',\n",
       "       'Assay ChEMBL ID', 'Assay Description', 'Assay Type', 'BAO Format ID',\n",
       "       'BAO Label', 'Assay Organism', 'Assay Tissue ChEMBL ID',\n",
       "       'Assay Tissue Name', 'Assay Cell Type', 'Assay Subcellular Fraction',\n",
       "       'Assay Parameters', 'Assay Variant Accession', 'Assay Variant Mutation',\n",
       "       'Target ChEMBL ID', 'Target Name', 'Target Organism', 'Target Type',\n",
       "       'Document ChEMBL ID', 'Source ID', 'Source Description',\n",
       "       'Document Journal', 'Document Year', 'Cell ChEMBL ID', 'Properties',\n",
       "       'relation_clean', 'pKi_numeric', 'pKi_calc'],\n",
       "      dtype='object')"
      ]
     },
     "execution_count": 13,
     "metadata": {},
     "output_type": "execute_result"
    }
   ],
   "execution_count": 13
  },
  {
   "metadata": {
    "ExecuteTime": {
     "end_time": "2025-10-30T21:13:25.722952Z",
     "start_time": "2025-10-30T21:13:25.714186Z"
    }
   },
   "cell_type": "code",
   "source": "chembl_data_calc = chembl_data_calc[['smiles', 'pKi_calc']]",
   "id": "6f8bf27d015e7b4",
   "outputs": [],
   "execution_count": 14
  },
  {
   "metadata": {
    "ExecuteTime": {
     "end_time": "2025-10-30T22:08:18.457621Z",
     "start_time": "2025-10-30T22:08:18.299789Z"
    }
   },
   "cell_type": "code",
   "source": "chembl_data_calc.to_csv('../data/processed/chembl_data_processed.csv', index=False)",
   "id": "1b7aa4a357d8813b",
   "outputs": [],
   "execution_count": 16
  }
 ],
 "metadata": {
  "kernelspec": {
   "display_name": "Python 3",
   "language": "python",
   "name": "python3"
  },
  "language_info": {
   "codemirror_mode": {
    "name": "ipython",
    "version": 2
   },
   "file_extension": ".py",
   "mimetype": "text/x-python",
   "name": "python",
   "nbconvert_exporter": "python",
   "pygments_lexer": "ipython2",
   "version": "2.7.6"
  }
 },
 "nbformat": 4,
 "nbformat_minor": 5
}
